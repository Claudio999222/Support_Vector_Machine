{
 "cells": [
  {
   "cell_type": "code",
   "execution_count": 1,
   "id": "d1f1701a-76f6-4eb3-940c-ee0b6d33980f",
   "metadata": {},
   "outputs": [],
   "source": [
    "from sklearn.datasets import make_blobs\n",
    "from sklearn.metrics import confusion_matrix\n",
    "from sklearn.metrics import accuracy_score\n",
    "from sklearn.utils.multiclass import unique_labels\n",
    "import matplotlib.pyplot as plt\n",
    "import numpy as np\n",
    "import pandas as pd\n",
    "from sklearn.svm import SVC\n",
    "import matplotlib.pyplot as plt\n",
    "import seaborn as sns"
   ]
  },
  {
   "cell_type": "markdown",
   "id": "0059f554-8a3e-438e-8ff9-4165efa1b2d1",
   "metadata": {},
   "source": [
    "#### Importo il dataset Titanic di kaggle \n",
    "* Lo trasformo in una matrice\n",
    "* Dichiaro y come la colonna che ci indica quali sono i sopravvissuti\n",
    "* Creo un nuovo dataset che saranno le nostre X con solo alcune specifiche colonne\n",
    "* Codifico manualmente la colonna del sesso con maschio = 0 e femmina = 1"
   ]
  },
  {
   "cell_type": "code",
   "execution_count": 2,
   "id": "f564aeec-4c37-4692-b9a6-f9d44e42b90a",
   "metadata": {},
   "outputs": [],
   "source": [
    "x = pd.read_csv(\"titanic.csv\")\n",
    "\n",
    "a = np.array(x)\n",
    "y  = a[:,1] \n",
    "\n",
    "x = np.column_stack((x.Age, x.Fare, x.Parch, x.Pclass, x.Sex, x.SibSp))\n",
    "\n",
    "x[:,4][x[:,4] == 'male'] = 0\n",
    "x[:,4][x[:,4] == 'female'] = 1"
   ]
  },
  {
   "cell_type": "markdown",
   "id": "c39dd2a2-0a33-4beb-8df5-8d249ccde63d",
   "metadata": {},
   "source": [
    "#### Sostituisco i dati mancanti con la media dei dati nella colonna"
   ]
  },
  {
   "cell_type": "code",
   "execution_count": 3,
   "id": "80693fb5-4b10-40f6-a077-9d3d0eae91f2",
   "metadata": {},
   "outputs": [],
   "source": [
    "columns_mean = np.nanmean(x, axis=0)\n",
    "x[:, 0][pd.isna(x[:, 0])] = columns_mean[0]"
   ]
  },
  {
   "cell_type": "markdown",
   "id": "750bd182-18d5-4e00-ad5d-fb1442130a3a",
   "metadata": {},
   "source": [
    "#### Visualizzo la dimensionalita delle X e y"
   ]
  },
  {
   "cell_type": "code",
   "execution_count": 4,
   "id": "0c27dbbe-2f46-443d-9e45-1cccd61030d7",
   "metadata": {},
   "outputs": [
    {
     "name": "stdout",
     "output_type": "stream",
     "text": [
      "(891, 6)\n",
      "(891,)\n"
     ]
    }
   ],
   "source": [
    "print(x.shape)\n",
    "print(y.shape)"
   ]
  },
  {
   "cell_type": "markdown",
   "id": "c10d0719-0b4f-49f0-9aa5-7a1b4cd21717",
   "metadata": {},
   "source": [
    "#### Divido manualmente il dataset in train e test"
   ]
  },
  {
   "cell_type": "code",
   "execution_count": 5,
   "id": "3bfbee5c-51fa-4eb7-8556-bb08e4c7aaf7",
   "metadata": {},
   "outputs": [],
   "source": [
    "x_train = np.asarray(x[:800], dtype=np.float32)\n",
    "y_train = np.asarray(y[:800], dtype=np.float32)\n",
    "\n",
    "x_test = np.asarray(x[800:], dtype=np.float32)\n",
    "y_test = np.asarray(y[800:], dtype=np.float32)"
   ]
  },
  {
   "cell_type": "markdown",
   "id": "e40f60b4-73c8-43a5-8862-eabff889231d",
   "metadata": {},
   "source": [
    "#### Utilizzo un Support Vector Machine con kernel Lineare  e lo addestro "
   ]
  },
  {
   "cell_type": "code",
   "execution_count": 11,
   "id": "e0171422-43e3-4056-9d08-644d2667c305",
   "metadata": {},
   "outputs": [
    {
     "data": {
      "text/html": [
       "<style>#sk-container-id-2 {color: black;}#sk-container-id-2 pre{padding: 0;}#sk-container-id-2 div.sk-toggleable {background-color: white;}#sk-container-id-2 label.sk-toggleable__label {cursor: pointer;display: block;width: 100%;margin-bottom: 0;padding: 0.3em;box-sizing: border-box;text-align: center;}#sk-container-id-2 label.sk-toggleable__label-arrow:before {content: \"▸\";float: left;margin-right: 0.25em;color: #696969;}#sk-container-id-2 label.sk-toggleable__label-arrow:hover:before {color: black;}#sk-container-id-2 div.sk-estimator:hover label.sk-toggleable__label-arrow:before {color: black;}#sk-container-id-2 div.sk-toggleable__content {max-height: 0;max-width: 0;overflow: hidden;text-align: left;background-color: #f0f8ff;}#sk-container-id-2 div.sk-toggleable__content pre {margin: 0.2em;color: black;border-radius: 0.25em;background-color: #f0f8ff;}#sk-container-id-2 input.sk-toggleable__control:checked~div.sk-toggleable__content {max-height: 200px;max-width: 100%;overflow: auto;}#sk-container-id-2 input.sk-toggleable__control:checked~label.sk-toggleable__label-arrow:before {content: \"▾\";}#sk-container-id-2 div.sk-estimator input.sk-toggleable__control:checked~label.sk-toggleable__label {background-color: #d4ebff;}#sk-container-id-2 div.sk-label input.sk-toggleable__control:checked~label.sk-toggleable__label {background-color: #d4ebff;}#sk-container-id-2 input.sk-hidden--visually {border: 0;clip: rect(1px 1px 1px 1px);clip: rect(1px, 1px, 1px, 1px);height: 1px;margin: -1px;overflow: hidden;padding: 0;position: absolute;width: 1px;}#sk-container-id-2 div.sk-estimator {font-family: monospace;background-color: #f0f8ff;border: 1px dotted black;border-radius: 0.25em;box-sizing: border-box;margin-bottom: 0.5em;}#sk-container-id-2 div.sk-estimator:hover {background-color: #d4ebff;}#sk-container-id-2 div.sk-parallel-item::after {content: \"\";width: 100%;border-bottom: 1px solid gray;flex-grow: 1;}#sk-container-id-2 div.sk-label:hover label.sk-toggleable__label {background-color: #d4ebff;}#sk-container-id-2 div.sk-serial::before {content: \"\";position: absolute;border-left: 1px solid gray;box-sizing: border-box;top: 0;bottom: 0;left: 50%;z-index: 0;}#sk-container-id-2 div.sk-serial {display: flex;flex-direction: column;align-items: center;background-color: white;padding-right: 0.2em;padding-left: 0.2em;position: relative;}#sk-container-id-2 div.sk-item {position: relative;z-index: 1;}#sk-container-id-2 div.sk-parallel {display: flex;align-items: stretch;justify-content: center;background-color: white;position: relative;}#sk-container-id-2 div.sk-item::before, #sk-container-id-2 div.sk-parallel-item::before {content: \"\";position: absolute;border-left: 1px solid gray;box-sizing: border-box;top: 0;bottom: 0;left: 50%;z-index: -1;}#sk-container-id-2 div.sk-parallel-item {display: flex;flex-direction: column;z-index: 1;position: relative;background-color: white;}#sk-container-id-2 div.sk-parallel-item:first-child::after {align-self: flex-end;width: 50%;}#sk-container-id-2 div.sk-parallel-item:last-child::after {align-self: flex-start;width: 50%;}#sk-container-id-2 div.sk-parallel-item:only-child::after {width: 0;}#sk-container-id-2 div.sk-dashed-wrapped {border: 1px dashed gray;margin: 0 0.4em 0.5em 0.4em;box-sizing: border-box;padding-bottom: 0.4em;background-color: white;}#sk-container-id-2 div.sk-label label {font-family: monospace;font-weight: bold;display: inline-block;line-height: 1.2em;}#sk-container-id-2 div.sk-label-container {text-align: center;}#sk-container-id-2 div.sk-container {/* jupyter's `normalize.less` sets `[hidden] { display: none; }` but bootstrap.min.css set `[hidden] { display: none !important; }` so we also need the `!important` here to be able to override the default hidden behavior on the sphinx rendered scikit-learn.org. See: https://github.com/scikit-learn/scikit-learn/issues/21755 */display: inline-block !important;position: relative;}#sk-container-id-2 div.sk-text-repr-fallback {display: none;}</style><div id=\"sk-container-id-2\" class=\"sk-top-container\"><div class=\"sk-text-repr-fallback\"><pre>SVC(kernel=&#x27;linear&#x27;)</pre><b>In a Jupyter environment, please rerun this cell to show the HTML representation or trust the notebook. <br />On GitHub, the HTML representation is unable to render, please try loading this page with nbviewer.org.</b></div><div class=\"sk-container\" hidden><div class=\"sk-item\"><div class=\"sk-estimator sk-toggleable\"><input class=\"sk-toggleable__control sk-hidden--visually\" id=\"sk-estimator-id-2\" type=\"checkbox\" checked><label for=\"sk-estimator-id-2\" class=\"sk-toggleable__label sk-toggleable__label-arrow\">SVC</label><div class=\"sk-toggleable__content\"><pre>SVC(kernel=&#x27;linear&#x27;)</pre></div></div></div></div></div>"
      ],
      "text/plain": [
       "SVC(kernel='linear')"
      ]
     },
     "execution_count": 11,
     "metadata": {},
     "output_type": "execute_result"
    }
   ],
   "source": [
    "classifier = SVC(kernel='linear')\n",
    "classifier.fit(x_train, y_train)"
   ]
  },
  {
   "cell_type": "markdown",
   "id": "37268747-03f4-4c66-a559-aa48d6309abc",
   "metadata": {},
   "source": [
    "#### Creo le predizioni sul dataset di test"
   ]
  },
  {
   "cell_type": "code",
   "execution_count": 7,
   "id": "1b3b3200-e245-4396-a38b-9e75f6935196",
   "metadata": {},
   "outputs": [],
   "source": [
    "preds = classifier.predict(x_test)"
   ]
  },
  {
   "cell_type": "markdown",
   "id": "1cc8a197-a916-45cf-9dc0-4e0179e41e97",
   "metadata": {},
   "source": [
    "#### Visualizzo l'accuratezza del modello"
   ]
  },
  {
   "cell_type": "code",
   "execution_count": 8,
   "id": "8d390b3d-dabd-4082-8074-4ef5cedc04b9",
   "metadata": {},
   "outputs": [
    {
     "name": "stdout",
     "output_type": "stream",
     "text": [
      "0.7692307692307693\n"
     ]
    }
   ],
   "source": [
    "print(accuracy_score(y_test, preds))"
   ]
  },
  {
   "cell_type": "markdown",
   "id": "821de001-bea9-42eb-b322-42cc96f610d8",
   "metadata": {},
   "source": [
    "#### Creo una matrice di confusione sulle y di test e le y predette per vedere quante ne ha indovinate e quante ne ha sbagliate"
   ]
  },
  {
   "cell_type": "code",
   "execution_count": 9,
   "id": "16efe3c4-5b6e-4f7a-95de-57433e1c5a32",
   "metadata": {},
   "outputs": [
    {
     "data": {
      "image/png": "[encoded data removed]",
      "text/plain": [
       "<Figure size 800x600 with 2 Axes>"
      ]
     },
     "metadata": {},
     "output_type": "display_data"
    }
   ],
   "source": [
    "cm = confusion_matrix(y_test, preds)\n",
    "\n",
    "plt.figure(figsize=(8, 6))\n",
    "sns.heatmap(cm, annot=True, fmt=\"d\", cmap=\"Blues\")\n",
    "plt.xlabel(\"Predicted labels\")\n",
    "plt.ylabel(\"True labels\")\n",
    "plt.show()"
   ]
  },
  {
   "cell_type": "markdown",
   "id": "c799f9e8-36fe-4be1-88eb-ab63390bd41e",
   "metadata": {},
   "source": [
    "#### Eseguo l'addestramento sullo stesso dataset anche con i kernel:\n",
    "* Polinomiale\n",
    "* rbf\n",
    "* Sigmoidale\n",
    "#### Per vedere se con questo dataset performassero meglio, ma il kernel Lineare conferma l'accuracy migliore "
   ]
  },
  {
   "cell_type": "code",
   "execution_count": 12,
   "id": "f9cc213c-d4a8-4109-9026-9f51e39ae297",
   "metadata": {},
   "outputs": [
    {
     "name": "stdout",
     "output_type": "stream",
     "text": [
      "Polynomial kernel 0.6703296703296703\n",
      "Radial Basis Function kernel 0.6923076923076923\n",
      "Sigmoid kernel 0.6483516483516484\n"
     ]
    }
   ],
   "source": [
    "classifier = SVC(kernel='poly')\n",
    "classifier.fit(x_train, y_train)\n",
    "preds = classifier.predict(x_test)\n",
    "print('Polynomial kernel', accuracy_score(y_test, preds))\n",
    "\n",
    "classifier = SVC(kernel='rbf')\n",
    "classifier.fit(x_train, y_train)\n",
    "preds = classifier.predict(x_test)\n",
    "print('Radial Basis Function kernel', accuracy_score(y_test, preds))\n",
    "\n",
    "classifier = SVC(kernel='sigmoid')\n",
    "classifier.fit(x_train, y_train)\n",
    "preds = classifier.predict(x_test)\n",
    "print('Sigmoid kernel', accuracy_score(y_test, preds))"
   ]
  },
  {
   "cell_type": "code",
   "execution_count": null,
   "id": "011a792b-ef4f-43b8-b721-765bfc1df31c",
   "metadata": {},
   "outputs": [],
   "source": []
  }
 ],
 "metadata": {
  "kernelspec": {
   "display_name": "Python 3 (ipykernel)",
   "language": "python",
   "name": "python3"
  },
  "language_info": {
   "codemirror_mode": {
    "name": "ipython",
    "version": 3
   },
   "file_extension": ".py",
   "mimetype": "text/x-python",
   "name": "python",
   "nbconvert_exporter": "python",
   "pygments_lexer": "ipython3",
   "version": "3.9.0"
  }
 },
 "nbformat": 4,
 "nbformat_minor": 5
}
